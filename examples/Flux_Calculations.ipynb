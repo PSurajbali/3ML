{
 "cells": [
  {
   "cell_type": "markdown",
   "metadata": {},
   "source": [
    "# Using Spectral Fits to Calculate Fluxes\n",
    "\n",
    "3ML provides a module to calculate the integral flux from a spectral fit and additionally uses the covariance matrix or posteror to calculate the error in the flux value for the integration range selected\n"
   ]
  },
  {
   "cell_type": "code",
   "execution_count": 1,
   "metadata": {
    "collapsed": false
   },
   "outputs": [
    {
     "name": "stdout",
     "output_type": "stream",
     "text": [
      "Populating the interactive namespace from numpy and matplotlib\n",
      "Configuration read from /Users/jburgess/.threeML/threeML_config.yml\n"
     ]
    }
   ],
   "source": [
    "%pylab inline\n",
    "\n",
    "from threeML import *\n"
   ]
  },
  {
   "cell_type": "markdown",
   "metadata": {},
   "source": [
    "## Data setup\n",
    "\n",
    "Using GRB 080916C as an example, we will fit two models to the time-integrated spectrum to demostrate the flux calculations capabilites."
   ]
  },
  {
   "cell_type": "code",
   "execution_count": 2,
   "metadata": {
    "collapsed": false
   },
   "outputs": [
    {
     "name": "stderr",
     "output_type": "stream",
     "text": [
      "\n",
      "WARNING UserWarning: No TLMIN keyword found. This DRM does not follow OGIP standards. Assuming TLMIN=1\n",
      "\n",
      "\n",
      "WARNING RuntimeWarning: Maximum MC energy is smaller than maximum EBOUNDS energy\n",
      "\n",
      "\n",
      "WARNING RuntimeWarning: Maximum MC energy is smaller than maximum EBOUNDS energy\n",
      "\n",
      "\n",
      "WARNING RuntimeWarning: Maximum MC energy is smaller than maximum EBOUNDS energy\n",
      "\n",
      "\n",
      "WARNING RuntimeWarning: Maximum MC energy is smaller than maximum EBOUNDS energy\n",
      "\n",
      "\n",
      "WARNING RuntimeWarning: Maximum MC energy is smaller than maximum EBOUNDS energy\n",
      "\n",
      "\n",
      "WARNING RuntimeWarning: Minimum MC energy is larger than minimum EBOUNDS energy\n",
      "\n",
      "\n",
      "WARNING RuntimeWarning: Maximum MC energy is smaller than maximum EBOUNDS energy\n",
      "\n",
      "\n",
      "WARNING RuntimeWarning: Minimum MC energy is larger than minimum EBOUNDS energy\n",
      "\n",
      "\n",
      "WARNING RuntimeWarning: Maximum MC energy is smaller than maximum EBOUNDS energy\n",
      "\n",
      "\n",
      "WARNING RuntimeWarning: Minimum MC energy is larger than minimum EBOUNDS energy\n",
      "\n",
      "\n",
      "WARNING RuntimeWarning: Maximum MC energy is smaller than maximum EBOUNDS energy\n",
      "\n",
      "\n",
      "WARNING RuntimeWarning: Minimum MC energy is larger than minimum EBOUNDS energy\n",
      "\n"
     ]
    }
   ],
   "source": [
    "# os.path.join is a way to generate system-independent\n",
    "# paths (good for unix, windows, Mac...)\n",
    "data_dir = os.path.join('gbm','bn080916009')\n",
    "trigger_number = 'bn080916009'\n",
    "\n",
    "# Download the data\n",
    "\n",
    "data_dir_gbm = os.path.join('gbm',trigger_number)\n",
    "gbm_data = download_GBM_trigger_data(trigger_number,detectors=['n3','b0'],destination_directory=data_dir_gbm,compress_tte=True)\n",
    "\n",
    "\n",
    "src_selection = '0-71'\n",
    "\n",
    "nai3 = FermiGBMTTELike('NAI3',\n",
    "                        os.path.join(data_dir, \"glg_tte_n3_bn080916009_v01.fit.gz\"),\n",
    "                       os.path.join(data_dir, \"glg_cspec_n3_bn080916009_v00.rsp2\"),\n",
    "                       src_selection,\n",
    "                       \"-10-0,100-200\",\n",
    "                        verbose=False)\n",
    "\n",
    "bgo0 = FermiGBMTTELike('BGO0',\n",
    "                       os.path.join(data_dir, \"glg_tte_b0_bn080916009_v01.fit.gz\"),\n",
    "                       os.path.join(data_dir, \"glg_cspec_b0_bn080916009_v00.rsp2\"),\n",
    "                       src_selection,\n",
    "                       \"-10-0,100-200\",\n",
    "                       verbose=False)\n",
    "\n",
    "\n",
    "nai3.set_active_measurements(\"8.0-30.0\", \"40.0-950.0\")\n",
    "bgo0.set_active_measurements(\"250-43000\")\n"
   ]
  },
  {
   "cell_type": "markdown",
   "metadata": {},
   "source": [
    "## Model setup\n",
    "\n",
    "We will fit two models: a Band function and a CPL+Blackbody\n"
   ]
  },
  {
   "cell_type": "code",
   "execution_count": 3,
   "metadata": {
    "collapsed": false,
    "scrolled": false
   },
   "outputs": [],
   "source": [
    "triggerName = 'bn080916009'\n",
    "ra = 121.8\n",
    "dec = -61.3\n",
    "\n",
    "\n",
    "data_list = DataList(nai3,bgo0 )\n",
    "\n",
    "band = Band()\n",
    "\n",
    "\n",
    "GRB1 = PointSource( triggerName, ra, dec, spectral_shape=band )\n",
    "\n",
    "model1 = Model( GRB1 )\n",
    "\n",
    "\n",
    "pl_bb= Powerlaw() + Blackbody()\n",
    "\n",
    "\n",
    "GRB2 = PointSource( triggerName, ra, dec, spectral_shape=pl_bb )\n",
    "\n",
    "model2 = Model( GRB2 )\n",
    "\n",
    "\n"
   ]
  },
  {
   "cell_type": "markdown",
   "metadata": {},
   "source": [
    "## Fitting"
   ]
  },
  {
   "cell_type": "markdown",
   "metadata": {},
   "source": [
    "### MLE \n",
    "\n",
    "We fit both models using MLE"
   ]
  },
  {
   "cell_type": "code",
   "execution_count": 4,
   "metadata": {
    "collapsed": false
   },
   "outputs": [
    {
     "name": "stdout",
     "output_type": "stream",
     "text": [
      "Best fit values:\n",
      "\n"
     ]
    },
    {
     "data": {
      "text/html": [
       "<div>\n",
       "<table border=\"1\" class=\"dataframe\">\n",
       "  <thead>\n",
       "    <tr style=\"text-align: right;\">\n",
       "      <th></th>\n",
       "      <th>Value</th>\n",
       "      <th>Unit</th>\n",
       "    </tr>\n",
       "  </thead>\n",
       "  <tbody>\n",
       "    <tr>\n",
       "      <th>bn080916009.spectrum.main.Band.K</th>\n",
       "      <td>(1.49 +/- 0.10) x 10^-2</td>\n",
       "      <td>1 / (cm2 keV s)</td>\n",
       "    </tr>\n",
       "    <tr>\n",
       "      <th>bn080916009.spectrum.main.Band.alpha</th>\n",
       "      <td>-1.07 +/- 0.05</td>\n",
       "      <td></td>\n",
       "    </tr>\n",
       "    <tr>\n",
       "      <th>bn080916009.spectrum.main.Band.xp</th>\n",
       "      <td>(5.0 +/- 1.0) x 10^2</td>\n",
       "      <td>keV</td>\n",
       "    </tr>\n",
       "    <tr>\n",
       "      <th>bn080916009.spectrum.main.Band.beta</th>\n",
       "      <td>-2.05 +/- 0.12</td>\n",
       "      <td></td>\n",
       "    </tr>\n",
       "  </tbody>\n",
       "</table>\n",
       "</div>"
      ],
      "text/plain": [
       "                                                        Value             Unit\n",
       "bn080916009.spectrum.main.Band.K      (1.49 +/- 0.10) x 10^-2  1 / (cm2 keV s)\n",
       "bn080916009.spectrum.main.Band.alpha           -1.07 +/- 0.05                 \n",
       "bn080916009.spectrum.main.Band.xp        (5.0 +/- 1.0) x 10^2              keV\n",
       "bn080916009.spectrum.main.Band.beta            -2.05 +/- 0.12                 "
      ]
     },
     "metadata": {},
     "output_type": "display_data"
    },
    {
     "name": "stdout",
     "output_type": "stream",
     "text": [
      "\n",
      "Correlation matrix:\n",
      "\n"
     ]
    },
    {
     "data": {
      "text/html": [
       "<table id=\"table4731491792\">\n",
       "<tr><td>1.00</td><td>0.93</td><td>-0.97</td><td>0.56</td></tr>\n",
       "<tr><td>0.93</td><td>1.00</td><td>-0.90</td><td>0.49</td></tr>\n",
       "<tr><td>-0.97</td><td>-0.90</td><td>1.00</td><td>-0.65</td></tr>\n",
       "<tr><td>0.56</td><td>0.49</td><td>-0.65</td><td>1.00</td></tr>\n",
       "</table>"
      ],
      "text/plain": [
       " 1.00  0.93 -0.97  0.56\n",
       " 0.93  1.00 -0.90  0.49\n",
       "-0.97 -0.90  1.00 -0.65\n",
       " 0.56  0.49 -0.65  1.00"
      ]
     },
     "metadata": {},
     "output_type": "display_data"
    },
    {
     "name": "stdout",
     "output_type": "stream",
     "text": [
      "\n",
      "Values of -log(likelihood) at the minimum:\n",
      "\n"
     ]
    },
    {
     "data": {
      "text/html": [
       "<div>\n",
       "<table border=\"1\" class=\"dataframe\">\n",
       "  <thead>\n",
       "    <tr style=\"text-align: right;\">\n",
       "      <th></th>\n",
       "      <th>-log(likelihood)</th>\n",
       "    </tr>\n",
       "  </thead>\n",
       "  <tbody>\n",
       "    <tr>\n",
       "      <th>BGO0</th>\n",
       "      <td>1197.745203</td>\n",
       "    </tr>\n",
       "    <tr>\n",
       "      <th>NAI3</th>\n",
       "      <td>1091.776951</td>\n",
       "    </tr>\n",
       "    <tr>\n",
       "      <th>total</th>\n",
       "      <td>2289.522155</td>\n",
       "    </tr>\n",
       "  </tbody>\n",
       "</table>\n",
       "</div>"
      ],
      "text/plain": [
       "       -log(likelihood)\n",
       "BGO0        1197.745203\n",
       "NAI3        1091.776951\n",
       "total       2289.522155"
      ]
     },
     "metadata": {},
     "output_type": "display_data"
    },
    {
     "name": "stdout",
     "output_type": "stream",
     "text": [
      "Best fit values:\n",
      "\n"
     ]
    },
    {
     "data": {
      "text/html": [
       "<div>\n",
       "<table border=\"1\" class=\"dataframe\">\n",
       "  <thead>\n",
       "    <tr style=\"text-align: right;\">\n",
       "      <th></th>\n",
       "      <th>Value</th>\n",
       "      <th>Unit</th>\n",
       "    </tr>\n",
       "  </thead>\n",
       "  <tbody>\n",
       "    <tr>\n",
       "      <th>bn080916009.spectrum.main.composite.K_1</th>\n",
       "      <td>8.8 +/- 0.7</td>\n",
       "      <td>1 / (cm2 keV s)</td>\n",
       "    </tr>\n",
       "    <tr>\n",
       "      <th>bn080916009...index_1</th>\n",
       "      <td>-1.576 +/- 0.019</td>\n",
       "      <td></td>\n",
       "    </tr>\n",
       "    <tr>\n",
       "      <th>bn080916009.spectrum.main.composite.K_2</th>\n",
       "      <td>(4.5 +/- 0.7) x 10^-6</td>\n",
       "      <td>1 / (cm2 keV3 s)</td>\n",
       "    </tr>\n",
       "    <tr>\n",
       "      <th>bn080916009.spectrum.main.composite.kT_2</th>\n",
       "      <td>(5.04 +/- 0.24) x 10</td>\n",
       "      <td>keV</td>\n",
       "    </tr>\n",
       "  </tbody>\n",
       "</table>\n",
       "</div>"
      ],
      "text/plain": [
       "                                                          Value  \\\n",
       "bn080916009.spectrum.main.composite.K_1             8.8 +/- 0.7   \n",
       "bn080916009...index_1                          -1.576 +/- 0.019   \n",
       "bn080916009.spectrum.main.composite.K_2   (4.5 +/- 0.7) x 10^-6   \n",
       "bn080916009.spectrum.main.composite.kT_2   (5.04 +/- 0.24) x 10   \n",
       "\n",
       "                                                      Unit  \n",
       "bn080916009.spectrum.main.composite.K_1    1 / (cm2 keV s)  \n",
       "bn080916009...index_1                                       \n",
       "bn080916009.spectrum.main.composite.K_2   1 / (cm2 keV3 s)  \n",
       "bn080916009.spectrum.main.composite.kT_2               keV  "
      ]
     },
     "metadata": {},
     "output_type": "display_data"
    },
    {
     "name": "stdout",
     "output_type": "stream",
     "text": [
      "\n",
      "Correlation matrix:\n",
      "\n"
     ]
    },
    {
     "data": {
      "text/html": [
       "<table id=\"table4759639184\">\n",
       "<tr><td>1.00</td><td>-0.91</td><td>-0.33</td><td>0.41</td></tr>\n",
       "<tr><td>-0.91</td><td>1.00</td><td>0.17</td><td>-0.35</td></tr>\n",
       "<tr><td>-0.33</td><td>0.17</td><td>1.00</td><td>-0.94</td></tr>\n",
       "<tr><td>0.41</td><td>-0.35</td><td>-0.94</td><td>1.00</td></tr>\n",
       "</table>"
      ],
      "text/plain": [
       " 1.00 -0.91 -0.33  0.41\n",
       "-0.91  1.00  0.17 -0.35\n",
       "-0.33  0.17  1.00 -0.94\n",
       " 0.41 -0.35 -0.94  1.00"
      ]
     },
     "metadata": {},
     "output_type": "display_data"
    },
    {
     "name": "stdout",
     "output_type": "stream",
     "text": [
      "\n",
      "Values of -log(likelihood) at the minimum:\n",
      "\n"
     ]
    },
    {
     "data": {
      "text/html": [
       "<div>\n",
       "<table border=\"1\" class=\"dataframe\">\n",
       "  <thead>\n",
       "    <tr style=\"text-align: right;\">\n",
       "      <th></th>\n",
       "      <th>-log(likelihood)</th>\n",
       "    </tr>\n",
       "  </thead>\n",
       "  <tbody>\n",
       "    <tr>\n",
       "      <th>BGO0</th>\n",
       "      <td>1210.246464</td>\n",
       "    </tr>\n",
       "    <tr>\n",
       "      <th>NAI3</th>\n",
       "      <td>1095.307328</td>\n",
       "    </tr>\n",
       "    <tr>\n",
       "      <th>total</th>\n",
       "      <td>2305.553792</td>\n",
       "    </tr>\n",
       "  </tbody>\n",
       "</table>\n",
       "</div>"
      ],
      "text/plain": [
       "       -log(likelihood)\n",
       "BGO0        1210.246464\n",
       "NAI3        1095.307328\n",
       "total       2305.553792"
      ]
     },
     "metadata": {},
     "output_type": "display_data"
    }
   ],
   "source": [
    "jl1 = JointLikelihood( model1, data_list, verbose=False )\n",
    "\n",
    "res = jl1.fit()\n",
    "\n",
    "\n",
    "\n",
    "jl2 = JointLikelihood( model2, data_list, verbose=False )\n",
    "\n",
    "res = jl2.fit()\n"
   ]
  },
  {
   "cell_type": "markdown",
   "metadata": {},
   "source": [
    "### Flux caluclation\n",
    "\n",
    "#### Total flux\n",
    "\n",
    "The **JointLikelihood** objects are passed to the **SpectralFlux** class.\n",
    "Then either **model_flux** or **component_flux** are called depending on the flux desired.\n",
    "\n",
    "The astropy system of units is used to specfiy flux units and an error is raised if the user selects an improper unit. The integration range is specified and the unit for this range can be altered.\n",
    "\n"
   ]
  },
  {
   "cell_type": "code",
   "execution_count": 5,
   "metadata": {
    "collapsed": false
   },
   "outputs": [
    {
     "data": {
      "text/html": [
       "<div>\n",
       "<table border=\"1\" class=\"dataframe\">\n",
       "  <thead>\n",
       "    <tr style=\"text-align: right;\">\n",
       "      <th></th>\n",
       "      <th>flux</th>\n",
       "      <th>negative error</th>\n",
       "      <th>positive error</th>\n",
       "    </tr>\n",
       "  </thead>\n",
       "  <tbody>\n",
       "    <tr>\n",
       "      <th>bn080916009: total</th>\n",
       "      <td>1.91114162965e-06 erg / (cm2 s)</td>\n",
       "      <td>1.57453116206e-06 erg / (cm2 s)</td>\n",
       "      <td>2.26762602494e-06 erg / (cm2 s)</td>\n",
       "    </tr>\n",
       "    <tr>\n",
       "      <th>bn080916009_2: total</th>\n",
       "      <td>1.87661507183e-06 erg / (cm2 s)</td>\n",
       "      <td>1.63222306088e-06 erg / (cm2 s)</td>\n",
       "      <td>2.15504525488e-06 erg / (cm2 s)</td>\n",
       "    </tr>\n",
       "  </tbody>\n",
       "</table>\n",
       "</div>"
      ],
      "text/plain": [
       "                                                 flux  \\\n",
       "bn080916009: total    1.91114162965e-06 erg / (cm2 s)   \n",
       "bn080916009_2: total  1.87661507183e-06 erg / (cm2 s)   \n",
       "\n",
       "                                       negative error  \\\n",
       "bn080916009: total    1.57453116206e-06 erg / (cm2 s)   \n",
       "bn080916009_2: total  1.63222306088e-06 erg / (cm2 s)   \n",
       "\n",
       "                                       positive error  \n",
       "bn080916009: total    2.26762602494e-06 erg / (cm2 s)  \n",
       "bn080916009_2: total  2.15504525488e-06 erg / (cm2 s)  "
      ]
     },
     "metadata": {},
     "output_type": "display_data"
    }
   ],
   "source": [
    "\n",
    "res = calculate_point_source_flux(10,40000,jl1.results,jl2.results,flux_unit='erg/(s cm2)',energy_unit='keV')\n"
   ]
  },
  {
   "cell_type": "markdown",
   "metadata": {},
   "source": [
    "A panadas DataFrame is returned with the sources (a fitting object can have multiple sources) flux, and flux error.\n",
    "\n",
    "We can also change to photon fluxes by specifying the proper flux unit (here we changed to m^2). Here, the integration unit is also changed."
   ]
  },
  {
   "cell_type": "code",
   "execution_count": 6,
   "metadata": {
    "collapsed": false
   },
   "outputs": [
    {
     "data": {
      "text/html": [
       "<div>\n",
       "<table border=\"1\" class=\"dataframe\">\n",
       "  <thead>\n",
       "    <tr style=\"text-align: right;\">\n",
       "      <th></th>\n",
       "      <th>flux</th>\n",
       "      <th>negative error</th>\n",
       "      <th>positive error</th>\n",
       "    </tr>\n",
       "  </thead>\n",
       "  <tbody>\n",
       "    <tr>\n",
       "      <th>bn080916009: total</th>\n",
       "      <td>176.087354288 1 / (cm2 s)</td>\n",
       "      <td>0.442687488649 1 / (cm2 s)</td>\n",
       "      <td>451.886189451 1 / (cm2 s)</td>\n",
       "    </tr>\n",
       "    <tr>\n",
       "      <th>bn080916009_2: total</th>\n",
       "      <td>39434350432.4 1 / (cm2 s)</td>\n",
       "      <td>8970680196.46 1 / (cm2 s)</td>\n",
       "      <td>58995295825.8 1 / (cm2 s)</td>\n",
       "    </tr>\n",
       "  </tbody>\n",
       "</table>\n",
       "</div>"
      ],
      "text/plain": [
       "                                           flux              negative error  \\\n",
       "bn080916009: total    176.087354288 1 / (cm2 s)  0.442687488649 1 / (cm2 s)   \n",
       "bn080916009_2: total  39434350432.4 1 / (cm2 s)   8970680196.46 1 / (cm2 s)   \n",
       "\n",
       "                                 positive error  \n",
       "bn080916009: total    451.886189451 1 / (cm2 s)  \n",
       "bn080916009_2: total  58995295825.8 1 / (cm2 s)  "
      ]
     },
     "metadata": {},
     "output_type": "display_data"
    }
   ],
   "source": [
    "res = calculate_point_source_flux(10,40000,jl1.results,jl2.results,flux_unit='1/(s cm2)',energy_unit='Hz',equal_tailed=False)\n",
    "\n"
   ]
  },
  {
   "cell_type": "markdown",
   "metadata": {},
   "source": [
    "#### Components\n",
    "\n",
    "If we want to look at component fluxes, we examine our second fit. \n",
    "\n",
    "We can first look at the total flux:\n"
   ]
  },
  {
   "cell_type": "code",
   "execution_count": 5,
   "metadata": {
    "collapsed": false
   },
   "outputs": [
    {
     "data": {
      "text/html": [
       "<div>\n",
       "<table border=\"1\" class=\"dataframe\">\n",
       "  <thead>\n",
       "    <tr style=\"text-align: right;\">\n",
       "      <th></th>\n",
       "      <th>flux</th>\n",
       "      <th>negative error</th>\n",
       "      <th>positive error</th>\n",
       "    </tr>\n",
       "  </thead>\n",
       "  <tbody>\n",
       "    <tr>\n",
       "      <th>bn080916009: total</th>\n",
       "      <td>1.9039848819e-06 erg / (cm2 s)</td>\n",
       "      <td>1.53646152236e-06 erg / (cm2 s)</td>\n",
       "      <td>2.29025979966e-06 erg / (cm2 s)</td>\n",
       "    </tr>\n",
       "    <tr>\n",
       "      <th>bn080916009_2: Blackbody</th>\n",
       "      <td>2.98162435614e-07 erg / (cm2 s)</td>\n",
       "      <td>2.32816767523e-07 erg / (cm2 s)</td>\n",
       "      <td>3.74874099063e-07 erg / (cm2 s)</td>\n",
       "    </tr>\n",
       "    <tr>\n",
       "      <th>bn080916009_2: Powerlaw</th>\n",
       "      <td>1.57446724856e-06 erg / (cm2 s)</td>\n",
       "      <td>1.3498807165e-06 erg / (cm2 s)</td>\n",
       "      <td>1.85325378616e-06 erg / (cm2 s)</td>\n",
       "    </tr>\n",
       "  </tbody>\n",
       "</table>\n",
       "</div>"
      ],
      "text/plain": [
       "                                                     flux  \\\n",
       "bn080916009: total         1.9039848819e-06 erg / (cm2 s)   \n",
       "bn080916009_2: Blackbody  2.98162435614e-07 erg / (cm2 s)   \n",
       "bn080916009_2: Powerlaw   1.57446724856e-06 erg / (cm2 s)   \n",
       "\n",
       "                                           negative error  \\\n",
       "bn080916009: total        1.53646152236e-06 erg / (cm2 s)   \n",
       "bn080916009_2: Blackbody  2.32816767523e-07 erg / (cm2 s)   \n",
       "bn080916009_2: Powerlaw    1.3498807165e-06 erg / (cm2 s)   \n",
       "\n",
       "                                           positive error  \n",
       "bn080916009: total        2.29025979966e-06 erg / (cm2 s)  \n",
       "bn080916009_2: Blackbody  3.74874099063e-07 erg / (cm2 s)  \n",
       "bn080916009_2: Powerlaw   1.85325378616e-06 erg / (cm2 s)  "
      ]
     },
     "metadata": {},
     "output_type": "display_data"
    }
   ],
   "source": [
    "res = calculate_point_source_flux(10,40000,\n",
    "                                  jl1.results,jl2.results,\n",
    "                                  flux_unit='erg/(s cm2)',\n",
    "                                  energy_unit='keV',use_components=True)\n",
    "\n"
   ]
  },
  {
   "cell_type": "markdown",
   "metadata": {},
   "source": [
    "Then we can look at our component fluxes. The class automatically solves the error propagation equations to properly propagate the parameter errors into the components"
   ]
  },
  {
   "cell_type": "code",
   "execution_count": 7,
   "metadata": {
    "collapsed": false
   },
   "outputs": [
    {
     "data": {
      "text/html": [
       "<div>\n",
       "<table border=\"1\" class=\"dataframe\">\n",
       "  <thead>\n",
       "    <tr style=\"text-align: right;\">\n",
       "      <th></th>\n",
       "      <th>flux</th>\n",
       "      <th>negative error</th>\n",
       "      <th>positive error</th>\n",
       "    </tr>\n",
       "  </thead>\n",
       "  <tbody>\n",
       "    <tr>\n",
       "      <th>bn080916009: total</th>\n",
       "      <td>1.9098744467e-06 erg / (cm2 s)</td>\n",
       "      <td>1.50734491539e-06 erg / (cm2 s)</td>\n",
       "      <td>2.27706381595e-06 erg / (cm2 s)</td>\n",
       "    </tr>\n",
       "    <tr>\n",
       "      <th>bn080916009_2: Blackbody</th>\n",
       "      <td>2.9672438355e-07 erg / (cm2 s)</td>\n",
       "      <td>2.26109650025e-07 erg / (cm2 s)</td>\n",
       "      <td>3.69757209064e-07 erg / (cm2 s)</td>\n",
       "    </tr>\n",
       "    <tr>\n",
       "      <th>bn080916009_2: total</th>\n",
       "      <td>1.87978597056e-06 erg / (cm2 s)</td>\n",
       "      <td>1.61169204266e-06 erg / (cm2 s)</td>\n",
       "      <td>2.12809837574e-06 erg / (cm2 s)</td>\n",
       "    </tr>\n",
       "  </tbody>\n",
       "</table>\n",
       "</div>"
      ],
      "text/plain": [
       "                                                     flux  \\\n",
       "bn080916009: total         1.9098744467e-06 erg / (cm2 s)   \n",
       "bn080916009_2: Blackbody   2.9672438355e-07 erg / (cm2 s)   \n",
       "bn080916009_2: total      1.87978597056e-06 erg / (cm2 s)   \n",
       "\n",
       "                                           negative error  \\\n",
       "bn080916009: total        1.50734491539e-06 erg / (cm2 s)   \n",
       "bn080916009_2: Blackbody  2.26109650025e-07 erg / (cm2 s)   \n",
       "bn080916009_2: total      1.61169204266e-06 erg / (cm2 s)   \n",
       "\n",
       "                                           positive error  \n",
       "bn080916009: total        2.27706381595e-06 erg / (cm2 s)  \n",
       "bn080916009_2: Blackbody  3.69757209064e-07 erg / (cm2 s)  \n",
       "bn080916009_2: total      2.12809837574e-06 erg / (cm2 s)  "
      ]
     },
     "metadata": {},
     "output_type": "display_data"
    }
   ],
   "source": [
    "res = calculate_point_source_flux(10,40000,jl1.results,jl2.results,flux_unit='erg/(s cm2)',\n",
    "                                  energy_unit='keV',\n",
    "                                  equal_tailed=False,\n",
    "                                  use_components=True, components_to_use=['Blackbody','total'])"
   ]
  },
  {
   "cell_type": "markdown",
   "metadata": {},
   "source": [
    "A dictionary of sources is return that contains pandas DataFrames listing the fluxes and errors of each componenet. \n",
    "\n",
    "**NOTE**: *With proper error propagation, the total error is not always the sqrt of the sum of component errors squared!*"
   ]
  },
  {
   "cell_type": "markdown",
   "metadata": {},
   "source": [
    "### Bayesian fitting\n",
    "\n",
    "Now we will look at the results when a Bayesian fit is performed. \n",
    "\n",
    "We set our priors and then sample:"
   ]
  },
  {
   "cell_type": "code",
   "execution_count": 8,
   "metadata": {
    "collapsed": true
   },
   "outputs": [],
   "source": [
    "pl_bb.K_1.prior = Log_uniform_prior(lower_bound = 1E-1, upper_bound = 1E2)\n",
    "pl_bb.index_1.set_uninformative_prior(Uniform_prior)\n",
    "\n",
    "pl_bb.K_2.prior = Log_uniform_prior(lower_bound = 1E-6, upper_bound = 1E-3)\n",
    "pl_bb.kT_2.prior = Log_uniform_prior(lower_bound = 1E0, upper_bound = 1E4)\n",
    "\n"
   ]
  },
  {
   "cell_type": "code",
   "execution_count": 9,
   "metadata": {
    "collapsed": false
   },
   "outputs": [
    {
     "name": "stdout",
     "output_type": "stream",
     "text": [
      "\n",
      "Mean acceptance fraction: 0.575\n",
      "\n",
      "Maximum a posteriori probability (MAP) point:\n",
      "\n"
     ]
    },
    {
     "data": {
      "text/html": [
       "<div>\n",
       "<table border=\"1\" class=\"dataframe\">\n",
       "  <thead>\n",
       "    <tr style=\"text-align: right;\">\n",
       "      <th></th>\n",
       "      <th>Value</th>\n",
       "      <th>Unit</th>\n",
       "    </tr>\n",
       "  </thead>\n",
       "  <tbody>\n",
       "    <tr>\n",
       "      <th>bn080916009.spectrum.main.composite.K_1</th>\n",
       "      <td>8.7 -0.4 +0.8</td>\n",
       "      <td>1 / (cm2 keV s)</td>\n",
       "    </tr>\n",
       "    <tr>\n",
       "      <th>bn080916009...index_1</th>\n",
       "      <td>-1.574 -0.022 +0.013</td>\n",
       "      <td></td>\n",
       "    </tr>\n",
       "    <tr>\n",
       "      <th>bn080916009.spectrum.main.composite.K_2</th>\n",
       "      <td>(4.5 -0.6 +0.7) x 10^-6</td>\n",
       "      <td>1 / (cm2 keV3 s)</td>\n",
       "    </tr>\n",
       "    <tr>\n",
       "      <th>bn080916009.spectrum.main.composite.kT_2</th>\n",
       "      <td>(5.03 -0.20 +0.25) x 10</td>\n",
       "      <td>keV</td>\n",
       "    </tr>\n",
       "  </tbody>\n",
       "</table>\n",
       "</div>"
      ],
      "text/plain": [
       "                                                            Value  \\\n",
       "bn080916009.spectrum.main.composite.K_1             8.7 -0.4 +0.8   \n",
       "bn080916009...index_1                        -1.574 -0.022 +0.013   \n",
       "bn080916009.spectrum.main.composite.K_2   (4.5 -0.6 +0.7) x 10^-6   \n",
       "bn080916009.spectrum.main.composite.kT_2  (5.03 -0.20 +0.25) x 10   \n",
       "\n",
       "                                                      Unit  \n",
       "bn080916009.spectrum.main.composite.K_1    1 / (cm2 keV s)  \n",
       "bn080916009...index_1                                       \n",
       "bn080916009.spectrum.main.composite.K_2   1 / (cm2 keV3 s)  \n",
       "bn080916009.spectrum.main.composite.kT_2               keV  "
      ]
     },
     "metadata": {},
     "output_type": "display_data"
    },
    {
     "name": "stdout",
     "output_type": "stream",
     "text": [
      "\n",
      "Values of -log(posterior) at the minimum:\n",
      "\n"
     ]
    },
    {
     "data": {
      "text/html": [
       "<div>\n",
       "<table border=\"1\" class=\"dataframe\">\n",
       "  <thead>\n",
       "    <tr style=\"text-align: right;\">\n",
       "      <th></th>\n",
       "      <th>-log(posterior)</th>\n",
       "    </tr>\n",
       "  </thead>\n",
       "  <tbody>\n",
       "    <tr>\n",
       "      <th>BGO0</th>\n",
       "      <td>-1207.673512</td>\n",
       "    </tr>\n",
       "    <tr>\n",
       "      <th>NAI3</th>\n",
       "      <td>-1092.482153</td>\n",
       "    </tr>\n",
       "    <tr>\n",
       "      <th>total</th>\n",
       "      <td>-2300.155665</td>\n",
       "    </tr>\n",
       "  </tbody>\n",
       "</table>\n",
       "</div>"
      ],
      "text/plain": [
       "       -log(posterior)\n",
       "BGO0      -1207.673512\n",
       "NAI3      -1092.482153\n",
       "total     -2300.155665"
      ]
     },
     "metadata": {},
     "output_type": "display_data"
    }
   ],
   "source": [
    "bayes = BayesianAnalysis(model2,data_list)\n",
    "_=bayes.sample(30,100,500)"
   ]
  },
  {
   "cell_type": "markdown",
   "metadata": {},
   "source": [
    "### Flux Calculation\n",
    "\n",
    "#### Total Flux\n",
    "\n",
    "Just as with MLE, we pass the **BayesianAnalysis** object to the **SpectralFlux** class.\n",
    "\n",
    "Now the propagation of fluxes is done using the posterior of the analysis."
   ]
  },
  {
   "cell_type": "code",
   "execution_count": 10,
   "metadata": {
    "collapsed": false
   },
   "outputs": [
    {
     "data": {
      "text/html": [
       "<div>\n",
       "<table border=\"1\" class=\"dataframe\">\n",
       "  <thead>\n",
       "    <tr style=\"text-align: right;\">\n",
       "      <th></th>\n",
       "      <th>flux</th>\n",
       "      <th>negative error</th>\n",
       "      <th>positive error</th>\n",
       "      <th>flux distribution</th>\n",
       "    </tr>\n",
       "  </thead>\n",
       "  <tbody>\n",
       "    <tr>\n",
       "      <th>bn080916009: total</th>\n",
       "      <td>1.86758978808e-06 erg / (cm2 s)</td>\n",
       "      <td>1.64122284622e-06 erg / (cm2 s)</td>\n",
       "      <td>2.12871511049e-06 erg / (cm2 s)</td>\n",
       "      <td>[1.80524710826e-06 erg / (cm2 s), 2.0143686888...</td>\n",
       "    </tr>\n",
       "  </tbody>\n",
       "</table>\n",
       "</div>"
      ],
      "text/plain": [
       "                                               flux  \\\n",
       "bn080916009: total  1.86758978808e-06 erg / (cm2 s)   \n",
       "\n",
       "                                     negative error  \\\n",
       "bn080916009: total  1.64122284622e-06 erg / (cm2 s)   \n",
       "\n",
       "                                     positive error  \\\n",
       "bn080916009: total  2.12871511049e-06 erg / (cm2 s)   \n",
       "\n",
       "                                                    flux distribution  \n",
       "bn080916009: total  [1.80524710826e-06 erg / (cm2 s), 2.0143686888...  "
      ]
     },
     "metadata": {},
     "output_type": "display_data"
    }
   ],
   "source": [
    "res = calculate_point_source_flux(10,40000,\n",
    "                                  bayes.results,\n",
    "                                  flux_unit='erg/(s cm2)',\n",
    "                                  energy_unit='keV')"
   ]
  },
  {
   "cell_type": "markdown",
   "metadata": {},
   "source": [
    "Once again, a DataFrame is returned. This time, it contains the mean flux from the distribution, the specfied level (default is 0.05) credible regions and the flux distribution itself. \n",
    "\n",
    "One can plot the distribtuion:"
   ]
  },
  {
   "cell_type": "code",
   "execution_count": 11,
   "metadata": {
    "collapsed": false
   },
   "outputs": [
    {
     "data": {
      "image/png": "[encoded data removed]",
      "text/plain": [
       "<matplotlib.figure.Figure at 0x11be798d0>"
      ]
     },
     "metadata": {},
     "output_type": "display_data"
    }
   ],
   "source": [
    "from astropy.visualization import quantity_support\n",
    "\n",
    "quantity_support()\n",
    "\n",
    "_=hist(res[1]['flux distribution'][0],bins=20)"
   ]
  },
  {
   "cell_type": "markdown",
   "metadata": {},
   "source": [
    "#### Components\n",
    "We can also look at components as before. A dictionary of sources is returned, each containing Dataframes of the components information and distributions.\n"
   ]
  },
  {
   "cell_type": "code",
   "execution_count": 12,
   "metadata": {
    "collapsed": false
   },
   "outputs": [
    {
     "data": {
      "text/html": [
       "<div>\n",
       "<table border=\"1\" class=\"dataframe\">\n",
       "  <thead>\n",
       "    <tr style=\"text-align: right;\">\n",
       "      <th></th>\n",
       "      <th>flux</th>\n",
       "      <th>negative error</th>\n",
       "      <th>positive error</th>\n",
       "      <th>flux distribution</th>\n",
       "    </tr>\n",
       "  </thead>\n",
       "  <tbody>\n",
       "    <tr>\n",
       "      <th>bn080916009: Blackbody</th>\n",
       "      <td>3.02645553975e-07 erg / (cm2 s)</td>\n",
       "      <td>2.41284530882e-07 erg / (cm2 s)</td>\n",
       "      <td>3.84229537662e-07 erg / (cm2 s)</td>\n",
       "      <td>[2.73586762211e-07 erg / (cm2 s), 3.2080879109...</td>\n",
       "    </tr>\n",
       "    <tr>\n",
       "      <th>bn080916009: Powerlaw</th>\n",
       "      <td>1.55673566178e-06 erg / (cm2 s)</td>\n",
       "      <td>1.35453225651e-06 erg / (cm2 s)</td>\n",
       "      <td>1.79666593764e-06 erg / (cm2 s)</td>\n",
       "      <td>[1.48721358571e-06 erg / (cm2 s), 1.7530923838...</td>\n",
       "    </tr>\n",
       "  </tbody>\n",
       "</table>\n",
       "</div>"
      ],
      "text/plain": [
       "                                                   flux  \\\n",
       "bn080916009: Blackbody  3.02645553975e-07 erg / (cm2 s)   \n",
       "bn080916009: Powerlaw   1.55673566178e-06 erg / (cm2 s)   \n",
       "\n",
       "                                         negative error  \\\n",
       "bn080916009: Blackbody  2.41284530882e-07 erg / (cm2 s)   \n",
       "bn080916009: Powerlaw   1.35453225651e-06 erg / (cm2 s)   \n",
       "\n",
       "                                         positive error  \\\n",
       "bn080916009: Blackbody  3.84229537662e-07 erg / (cm2 s)   \n",
       "bn080916009: Powerlaw   1.79666593764e-06 erg / (cm2 s)   \n",
       "\n",
       "                                                        flux distribution  \n",
       "bn080916009: Blackbody  [2.73586762211e-07 erg / (cm2 s), 3.2080879109...  \n",
       "bn080916009: Powerlaw   [1.48721358571e-06 erg / (cm2 s), 1.7530923838...  "
      ]
     },
     "metadata": {},
     "output_type": "display_data"
    }
   ],
   "source": [
    "res = calculate_point_source_flux(10,40000,\n",
    "                                  bayes.results,\n",
    "                                  flux_unit='erg/(s cm2)',\n",
    "                                  energy_unit='keV',\n",
    "                                  use_components=True)"
   ]
  },
  {
   "cell_type": "markdown",
   "metadata": {},
   "source": [
    "We can easily now visulaize the flux distribtuions from the individual components."
   ]
  },
  {
   "cell_type": "code",
   "execution_count": 13,
   "metadata": {
    "collapsed": false
   },
   "outputs": [
    {
     "data": {
      "image/png": "[encoded data removed]",
      "text/plain": [
       "<matplotlib.figure.Figure at 0x11c91d550>"
      ]
     },
     "metadata": {},
     "output_type": "display_data"
    }
   ],
   "source": [
    "_=hist(log10(res[1]['flux distribution'][0].value),bins=20)\n",
    "_=hist(log10(res[1]['flux distribution'][1].value),bins=20)\n",
    "\n"
   ]
  },
  {
   "cell_type": "code",
   "execution_count": 14,
   "metadata": {
    "collapsed": false
   },
   "outputs": [
    {
     "data": {
      "text/html": [
       "<div>\n",
       "<table border=\"1\" class=\"dataframe\">\n",
       "  <thead>\n",
       "    <tr style=\"text-align: right;\">\n",
       "      <th></th>\n",
       "      <th>flux</th>\n",
       "      <th>negative error</th>\n",
       "      <th>positive error</th>\n",
       "    </tr>\n",
       "  </thead>\n",
       "  <tbody>\n",
       "    <tr>\n",
       "      <th>bn080916009: total</th>\n",
       "      <td>1.88373471868e-06 erg / (cm2 s)</td>\n",
       "      <td>1.53858737596e-06 erg / (cm2 s)</td>\n",
       "      <td>2.2728799556e-06 erg / (cm2 s)</td>\n",
       "    </tr>\n",
       "    <tr>\n",
       "      <th>bn080916009_2: total</th>\n",
       "      <td>1.86461731624e-06 erg / (cm2 s)</td>\n",
       "      <td>1.63196809404e-06 erg / (cm2 s)</td>\n",
       "      <td>2.12230564683e-06 erg / (cm2 s)</td>\n",
       "    </tr>\n",
       "  </tbody>\n",
       "</table>\n",
       "</div>"
      ],
      "text/plain": [
       "                                                 flux  \\\n",
       "bn080916009: total    1.88373471868e-06 erg / (cm2 s)   \n",
       "bn080916009_2: total  1.86461731624e-06 erg / (cm2 s)   \n",
       "\n",
       "                                       negative error  \\\n",
       "bn080916009: total    1.53858737596e-06 erg / (cm2 s)   \n",
       "bn080916009_2: total  1.63196809404e-06 erg / (cm2 s)   \n",
       "\n",
       "                                       positive error  \n",
       "bn080916009: total     2.2728799556e-06 erg / (cm2 s)  \n",
       "bn080916009_2: total  2.12230564683e-06 erg / (cm2 s)  "
      ]
     },
     "metadata": {},
     "output_type": "display_data"
    },
    {
     "data": {
      "text/html": [
       "<div>\n",
       "<table border=\"1\" class=\"dataframe\">\n",
       "  <thead>\n",
       "    <tr style=\"text-align: right;\">\n",
       "      <th></th>\n",
       "      <th>flux</th>\n",
       "      <th>negative error</th>\n",
       "      <th>positive error</th>\n",
       "      <th>flux distribution</th>\n",
       "    </tr>\n",
       "  </thead>\n",
       "  <tbody>\n",
       "    <tr>\n",
       "      <th>bn080916009: total</th>\n",
       "      <td>1.85951690412e-06 erg / (cm2 s)</td>\n",
       "      <td>1.64495301858e-06 erg / (cm2 s)</td>\n",
       "      <td>2.11183597466e-06 erg / (cm2 s)</td>\n",
       "      <td>[1.86976760607e-06 erg / (cm2 s), 1.4308721697...</td>\n",
       "    </tr>\n",
       "  </tbody>\n",
       "</table>\n",
       "</div>"
      ],
      "text/plain": [
       "                                               flux  \\\n",
       "bn080916009: total  1.85951690412e-06 erg / (cm2 s)   \n",
       "\n",
       "                                     negative error  \\\n",
       "bn080916009: total  1.64495301858e-06 erg / (cm2 s)   \n",
       "\n",
       "                                     positive error  \\\n",
       "bn080916009: total  2.11183597466e-06 erg / (cm2 s)   \n",
       "\n",
       "                                                    flux distribution  \n",
       "bn080916009: total  [1.86976760607e-06 erg / (cm2 s), 1.4308721697...  "
      ]
     },
     "metadata": {},
     "output_type": "display_data"
    }
   ],
   "source": [
    "res = calculate_point_source_flux(10,40000,\n",
    "                                  bayes.results,jl1.results,jl2.results,\n",
    "                                  flux_unit='erg/(s cm2)',\n",
    "                                  energy_unit='keV')"
   ]
  }
 ],
 "metadata": {
  "kernelspec": {
   "display_name": "Python 2",
   "language": "python",
   "name": "python2"
  },
  "language_info": {
   "codemirror_mode": {
    "name": "ipython",
    "version": 2
   },
   "file_extension": ".py",
   "mimetype": "text/x-python",
   "name": "python",
   "nbconvert_exporter": "python",
   "pygments_lexer": "ipython2",
   "version": "2.7.13"
  },
  "widgets": {
   "state": {
    "1a89bee63e254136a0bd37bc158ad25c": {
     "views": [
      {
       "cell_index": 16
      }
     ]
    },
    "20008bea26a24f379968d30ec44eb4e5": {
     "views": [
      {
       "cell_index": 16
      }
     ]
    },
    "23ad0d53fdf3476bb083bf1d1e27d722": {
     "views": [
      {
       "cell_index": 22
      }
     ]
    },
    "27baccc9cdf94743a73a1e7f6a6fd3f2": {
     "views": [
      {
       "cell_index": 3
      }
     ]
    },
    "27c59286c3f945a0b5d1a40f6c22fdc7": {
     "views": [
      {
       "cell_index": 3
      }
     ]
    },
    "3d53a037efdb4a0cbbf9fe04d3a0aee4": {
     "views": [
      {
       "cell_index": 14
      }
     ]
    },
    "4ba4af5353f44717986ad4d7f92e6016": {
     "views": [
      {
       "cell_index": 12
      }
     ]
    },
    "5a4ea020ad614a19b7b7a41effacb6b7": {
     "views": [
      {
       "cell_index": 3
      }
     ]
    },
    "5d3096d37c594017ba5b8e9e4f8972f9": {
     "views": [
      {
       "cell_index": 10
      }
     ]
    },
    "5e879f930e7e4000913b378b0b285fbc": {
     "views": [
      {
       "cell_index": 3
      }
     ]
    },
    "6f2f468968f248f4ac7d9439700a2575": {
     "views": [
      {
       "cell_index": 3
      }
     ]
    },
    "713c7e8d03c24486b1c8040684389225": {
     "views": [
      {
       "cell_index": 16
      }
     ]
    },
    "7146487c80ca402eb19dff8589c8590f": {
     "views": [
      {
       "cell_index": 14
      }
     ]
    },
    "736f86366c4341e6b39de7db4fae7b76": {
     "views": [
      {
       "cell_index": 14
      }
     ]
    },
    "77602c0ee0b14d67a5263d6c12479c09": {
     "views": [
      {
       "cell_index": 10
      }
     ]
    },
    "79da09cd38d24f06bccff7c36e9cbb5c": {
     "views": [
      {
       "cell_index": 3
      }
     ]
    },
    "85a28f7ac1134f808547e0e4574c1bd5": {
     "views": [
      {
       "cell_index": 12
      }
     ]
    },
    "8c12131d0b834e6b883e8526f8062368": {
     "views": [
      {
       "cell_index": 3
      }
     ]
    },
    "90e9e2c9ccf94cbbbb20ea0d74291f03": {
     "views": [
      {
       "cell_index": 20
      }
     ]
    },
    "97526f3e10194a8fb9b31125c1037c15": {
     "views": [
      {
       "cell_index": 10
      }
     ]
    },
    "9eb1c867a6a84779933276c397c61d9a": {
     "views": [
      {
       "cell_index": 3
      }
     ]
    },
    "b6ac7e362597481baad430470588d50d": {
     "views": [
      {
       "cell_index": 10
      }
     ]
    },
    "c038ce3ab3da45289d35fec37b329b8c": {
     "views": [
      {
       "cell_index": 12
      }
     ]
    },
    "d14fc911a2db4c5da074606258782a66": {
     "views": [
      {
       "cell_index": 16
      }
     ]
    },
    "dd80e03a430f43d6839c957d68b208cc": {
     "views": [
      {
       "cell_index": 20
      }
     ]
    },
    "eb18d7ed47d945beb8ce2ad722e2adac": {
     "views": [
      {
       "cell_index": 14
      }
     ]
    },
    "f25b655d0b1d4e9aa13f43f96befd777": {
     "views": [
      {
       "cell_index": 3
      }
     ]
    }
   },
   "version": "1.2.0"
  }
 },
 "nbformat": 4,
 "nbformat_minor": 1
}
